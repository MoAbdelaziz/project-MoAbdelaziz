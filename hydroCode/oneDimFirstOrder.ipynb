{
 "cells": [
  {
   "cell_type": "code",
   "execution_count": 3,
   "metadata": {
    "collapsed": true
   },
   "outputs": [],
   "source": [
    "# Imports\n",
    "import numpy as np"
   ]
  },
  {
   "cell_type": "code",
   "execution_count": 4,
   "metadata": {
    "collapsed": true
   },
   "outputs": [],
   "source": [
    "# Define Functions\n",
    "def euler(f, ics, tMin, tMax, numSteps):\n",
    "\t# Compute forward Euler for arbitrarily-sized system of first order ODEs \n",
    "\t# f        : function written as f(r,t), for a vector r of variables, and time.\n",
    "\t# ics      : Vector of n initial conditions, nth entry for nth variable (t0 goes in tMin)\n",
    "\t# tMin     : Start time\n",
    "\t# tMax     : Max time (independent variable) to run to\n",
    "\t# numSteps : Number of steps to perform in total\n",
    "\tprint(\"Starting Euler...\")\n",
    "\ttMin = float(tMin)\n",
    "\ttMax = float(tMax)\n",
    "\th = (tMax-tMin)/numSteps\n",
    "\t\n",
    "\ttPoints = np.arange(tMin,tMax,h)\n",
    "\trPoints = np.zeros([len(ics),1])\n",
    "\t\n",
    "\tr = ics\n",
    "\tr.shape = (len(ics),1) # Force r to be a column vector\n",
    "\tfor t in tPoints:\n",
    "\t\trPoints = np.append(rPoints, r, axis = 1)\n",
    "\t\tr = r + h * f(r,t)\n",
    "\trPoints = np.append(rPoints, r, axis = 1)\n",
    "\tprint(\"...finished Euler\")\n",
    "\treturn tPoints,rPoints[:,:]\n",
    "\n",
    "def uFunc(fPlus,fMinus,dx,t):\n",
    "    return -(fPlus - fMinus)/dx\n",
    "    "
   ]
  },
  {
   "cell_type": "code",
   "execution_count": null,
   "metadata": {
    "collapsed": true
   },
   "outputs": [],
   "source": [
    "# Initialize Variables\n",
    "rho0 = 1. # Fluid density\n",
    "v0   = 1. # Velocity\n",
    "P0   = 1. # Pressure\n",
    "e0   = 1. # Specific internal energy\n",
    "E0   = rho0*e0 + 0.5 * rho0*v0**2 # Total energy density\n",
    "gamma = 1. # Adiabatic index of the ideal gas\n",
    "p0    = (gamma-1) * rho0*e0 # Equation of state\n"
   ]
  }
 ],
 "metadata": {
  "anaconda-cloud": {},
  "kernelspec": {
   "display_name": "Python [conda root]",
   "language": "python",
   "name": "conda-root-py"
  },
  "language_info": {
   "codemirror_mode": {
    "name": "ipython",
    "version": 2
   },
   "file_extension": ".py",
   "mimetype": "text/x-python",
   "name": "python",
   "nbconvert_exporter": "python",
   "pygments_lexer": "ipython2",
   "version": "2.7.12"
  }
 },
 "nbformat": 4,
 "nbformat_minor": 1
}
